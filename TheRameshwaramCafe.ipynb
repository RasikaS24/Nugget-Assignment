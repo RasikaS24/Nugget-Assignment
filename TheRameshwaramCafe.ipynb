{
  "nbformat": 4,
  "nbformat_minor": 0,
  "metadata": {
    "colab": {
      "provenance": []
    },
    "kernelspec": {
      "name": "python3",
      "display_name": "Python 3"
    },
    "language_info": {
      "name": "python"
    }
  },
  "cells": [
    {
      "cell_type": "code",
      "source": [
        "import requests\n",
        "from bs4 import BeautifulSoup\n",
        "import csv\n",
        "import re\n",
        "import urllib.robotparser\n",
        "\n",
        "# URL to scrape\n",
        "url = 'https://magicpin.in/Bangalore/Hal-2Nd-Stage/Restaurant/The-Rameshwaram-Cafe/store/5b72aa/delivery/'\n",
        "\n",
        "# Check robots.txt\n",
        "rp = urllib.robotparser.RobotFileParser()\n",
        "rp.set_url('https://magicpin.in/robots.txt')\n",
        "rp.read()\n",
        "\n",
        "if not rp.can_fetch(\"*\", url):\n",
        "    print(\"Scraping disallowed by robots.txt\")\n",
        "else:\n",
        "    try:\n",
        "        response = requests.get(url, timeout=10)\n",
        "        response.raise_for_status()  # Raise HTTPError for bad responses\n",
        "\n",
        "        soup = BeautifulSoup(response.content, 'html.parser')\n",
        "\n",
        "        with open('TRC_items.csv', mode='w', newline='', encoding='utf-8') as file:\n",
        "            writer = csv.writer(file)\n",
        "            writer.writerow(['Category', 'Item Name', 'Description', 'Price'])\n",
        "\n",
        "            menu_sections = soup.select('article.categoryListing')\n",
        "            for section in menu_sections:\n",
        "                category = section.select_one('h4.categoryHeading')\n",
        "                category_name = category.text.strip() if category else \"Uncategorized\"\n",
        "\n",
        "                items = section.select('div section.categoryItemHolder')\n",
        "                for item in items:\n",
        "                    try:\n",
        "                        name_tag = item.select_one('article.itemInfo a')\n",
        "                        desc_tag = item.select_one('section.description')\n",
        "                        price_tag = item.select_one('span.itemPrice')\n",
        "\n",
        "                        name = name_tag.text.strip() if name_tag else \"Not found\"\n",
        "                        desc = desc_tag.text.strip() if desc_tag else \"No description\"\n",
        "                        price = price_tag.text.strip() if price_tag else \"No price\"\n",
        "                        price_cleaned = re.sub(r'[^\\d]', '', price)\n",
        "\n",
        "                        writer.writerow([category_name, name, desc, price_cleaned])\n",
        "                    except Exception as e:\n",
        "                        print(f\"Skipping item due to error: {e}\")\n",
        "\n",
        "        print(\"Data scraped and saved to TRC_items.csv\")\n",
        "\n",
        "    except requests.exceptions.RequestException as e:\n",
        "        print(f\"Failed to fetch page: {e}\")\n",
        "    except Exception as e:\n",
        "        print(f\"Unexpected error: {e}\")\n"
      ],
      "metadata": {
        "colab": {
          "base_uri": "https://localhost:8080/"
        },
        "id": "FUMdRXZO1DCD",
        "outputId": "cbf2a9b7-d96b-4a58-bcd7-00f973ef849f"
      },
      "execution_count": 1,
      "outputs": [
        {
          "output_type": "stream",
          "name": "stdout",
          "text": [
            "Data scraped and saved to TRC_items.csv\n"
          ]
        }
      ]
    },
    {
      "cell_type": "code",
      "source": [
        "import requests\n",
        "from bs4 import BeautifulSoup\n",
        "import json\n",
        "\n",
        "url = \"https://magicpin.in/Bangalore/Hal-2Nd-Stage/Restaurant/The-Rameshwaram-Cafe/store/5b72aa/delivery/\"\n",
        "headers = {\"User-Agent\": \"Mozilla/5.0\"}\n",
        "response = requests.get(url, headers=headers)\n",
        "soup = BeautifulSoup(response.text, \"html.parser\")\n",
        "\n",
        "script_tags = soup.find_all(\"script\", type=\"application/ld+json\")\n",
        "\n",
        "for tag in script_tags:\n",
        "    try:\n",
        "        data = json.loads(tag.string)\n",
        "        if isinstance(data, list):\n",
        "            data = next(d for d in data if d.get(\"@type\") == \"Restaurant\")\n",
        "        if data.get(\"@type\") == \"Restaurant\":\n",
        "            name = data.get(\"name\")\n",
        "            address = data.get(\"address\", {}).get(\"streetAddress\", \"\")\n",
        "            phone = data.get(\"telephone\", [\"N/A\"])[0] if isinstance(data.get(\"telephone\"), list) else data.get(\"telephone\")\n",
        "            hours = [\n",
        "                f\"{entry['dayOfWeek'][0]}: {entry['opens']} to {entry['closes']}\"\n",
        "                for entry in data.get(\"openingHoursSpecification\", [])\n",
        "            ]\n",
        "            break\n",
        "    except Exception as e:\n",
        "        continue\n",
        "\n",
        "print(\"Restaurant:\", name)\n",
        "print(\"Location:\", address)\n",
        "print(\"Phone:\", phone)\n",
        "print(\"Opening Hours:\")\n",
        "for h in hours:\n",
        "    print(\" -\", h)\n",
        "import csv\n",
        "\n",
        "# Save extracted info to a CSV\n",
        "with open(\"rameshwaram_cafe_info.csv\", \"w\", newline='', encoding=\"utf-8\") as f:\n",
        "    writer = csv.DictWriter(f, fieldnames=[\"restaurant_name\", \"location\", \"contact\", \"opening_hours\"])\n",
        "    writer.writeheader()\n",
        "    writer.writerow({\n",
        "        \"restaurant_name\": name,\n",
        "        \"location\": address,\n",
        "        \"contact\": phone,\n",
        "        \"opening_hours\": \"; \".join(hours)\n",
        "    })\n",
        "\n",
        "print(\"Info saved to 'rameshwaram_cafe_info.csv'\")\n"
      ],
      "metadata": {
        "colab": {
          "base_uri": "https://localhost:8080/"
        },
        "id": "LmWNtiowpiIF",
        "outputId": "63ec7fd2-1ea9-45b5-ae58-9e0c18c01ec3"
      },
      "execution_count": 4,
      "outputs": [
        {
          "output_type": "stream",
          "name": "stdout",
          "text": [
            "Restaurant: The-Rameshwaram-Cafe\n",
            "Location: Ground Floor, No 2984, 12th Main Rd, Indiranagar, HAL 2nd Stage, Bangalore\n",
            "Phone: +918151999191\n",
            "Opening Hours:\n",
            " - MONDAY: 06:30:00 to 01:00:00\n",
            " - TUESDAY: 06:30:00 to 01:00:00\n",
            " - WEDNESDAY: 06:30:00 to 01:00:00\n",
            " - THURSDAY: 06:30:00 to 01:00:00\n",
            " - FRIDAY: 06:30:00 to 01:00:00\n",
            " - SATURDAY: 06:30:00 to 01:00:00\n",
            " - SUNDAY: 06:30:00 to 01:00:00\n",
            "Info saved to 'rameshwaram_cafe_info.csv'\n"
          ]
        }
      ]
    }
  ]
}