{
  "nbformat": 4,
  "nbformat_minor": 0,
  "metadata": {
    "colab": {
      "provenance": []
    },
    "kernelspec": {
      "name": "python3",
      "display_name": "Python 3"
    },
    "language_info": {
      "name": "python"
    }
  },
  "cells": [
    {
      "cell_type": "code",
      "source": [
        "import requests\n",
        "import csv\n",
        "from bs4 import BeautifulSoup\n",
        "import re\n",
        "\n",
        "def clean_text(tag):\n",
        "    return tag.get_text(strip=True) if tag else \"\"\n",
        "\n",
        "# Fetch page\n",
        "url = \"https://www.punjabgrill.in/punjab-grill-menu/\"\n",
        "headers = {\"User-Agent\": \"Mozilla/5.0\"}\n",
        "response = requests.get(url, headers=headers)\n",
        "soup = BeautifulSoup(response.content, \"lxml\")\n",
        "\n",
        "# Manual metadata fallback\n",
        "restaurant_info = {\n",
        "    \"name\": \"Punjab Grill\",\n",
        "    \"phone\": \"+91 9513720004\",\n",
        "    \"address\": \"UB City, Bangalore\",\n",
        "    \"opening_hours\": \"12:00 PM – 11:00 PM (Mon-Sun)\"\n",
        "}\n",
        "\n",
        "def extract_menu_items():\n",
        "    menu = []\n",
        "    headings = soup.find_all(\"h3\", class_=\"appetizer-list-heading\")\n",
        "\n",
        "    for heading in headings:\n",
        "        section = clean_text(heading)\n",
        "        section_block = heading.find_parent().find_next(\"div\", class_=\"tab-content\")\n",
        "        if not section_block:\n",
        "            continue\n",
        "\n",
        "        tab_panes = section_block.find_all(\"div\", class_=\"tab-pane\")\n",
        "        for pane in tab_panes:\n",
        "            veg = \"Veg\" if \"tab1\" in pane.get(\"id\", \"\").lower() else \"Non-Veg\"\n",
        "            items = pane.select(\"div.panel-body ul.menu-list li\")\n",
        "\n",
        "            for item in items:\n",
        "                text = clean_text(item)\n",
        "                if not text:\n",
        "                    continue\n",
        "\n",
        "                # Pattern: everything before price (item), price, and everything after (desc)\n",
        "                match = re.match(r'^(.*?)(\\d{2,4})([^\\d]*)$', text)\n",
        "                if match:\n",
        "                    item_name = match.group(1).strip()\n",
        "                    price = int(match.group(2))\n",
        "                    description = match.group(3).strip()\n",
        "                else:\n",
        "                    item_name = text\n",
        "                    price = None\n",
        "                    description = \"\"\n",
        "\n",
        "                menu.append({\n",
        "                    \"section\": section,\n",
        "                    \"type\": veg,\n",
        "                    \"item\": item_name,\n",
        "                    \"price\": price,\n",
        "                    \"description\": description\n",
        "                })\n",
        "\n",
        "    return menu\n",
        "\n",
        "# Run and save\n",
        "menu_items = extract_menu_items()\n",
        "\n",
        "# Print summary\n",
        "print(\"Restaurant:\", restaurant_info['name'])\n",
        "print(\"Phone:\", restaurant_info['phone'])\n",
        "print(\"Location:\", restaurant_info['address'])\n",
        "print(\"Opening Hours:\", restaurant_info['opening_hours'])\n",
        "print(f\"\\nTotal menu items scraped: {len(menu_items)}\")\n",
        "\n",
        "# Save to CSV\n",
        "csv_file = \"Punjab_grill_menu.csv\"\n",
        "with open(csv_file, \"w\", newline='', encoding=\"utf-8\") as f:\n",
        "    writer = csv.DictWriter(f, fieldnames=[\"section\", \"type\", \"item\", \"price\", \"description\"])\n",
        "    writer.writeheader()\n",
        "    for row in menu_items:\n",
        "        writer.writerow(row)\n",
        "\n",
        "print(f\"\\nSaved to '{csv_file}'\")\n"
      ],
      "metadata": {
        "colab": {
          "base_uri": "https://localhost:8080/"
        },
        "id": "2XhtLsbnjzjs",
        "outputId": "582932b5-f1c1-4f18-cff0-b1c3fa9e8224"
      },
      "execution_count": null,
      "outputs": [
        {
          "output_type": "stream",
          "name": "stdout",
          "text": [
            "Restaurant: Punjab Grill\n",
            "Phone: +91 9513720004\n",
            "Location: UB City, Bangalore\n",
            "Opening Hours: 12:00 PM – 11:00 PM (Mon-Sun)\n",
            "\n",
            "Total menu items scraped: 62\n",
            "\n",
            "Saved to 'Punjab_grill_menu.csv'\n"
          ]
        }
      ]
    }
  ]
}