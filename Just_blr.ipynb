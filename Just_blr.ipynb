{
  "nbformat": 4,
  "nbformat_minor": 0,
  "metadata": {
    "colab": {
      "provenance": []
    },
    "kernelspec": {
      "name": "python3",
      "display_name": "Python 3"
    },
    "language_info": {
      "name": "python"
    }
  },
  "cells": [
    {
      "cell_type": "code",
      "source": [
        "import requests\n",
        "from bs4 import BeautifulSoup\n",
        "import re\n",
        "import csv\n",
        "\n",
        "def extract_dishes_from_url(url, section_name):\n",
        "    response = requests.get(url)\n",
        "    response.raise_for_status()\n",
        "\n",
        "    soup = BeautifulSoup(response.text, \"html.parser\")\n",
        "    text = soup.get_text(separator=\"\\n\")\n",
        "\n",
        "    # Improved regex to capture dish names with ₹\n",
        "    pattern = re.compile(r\"(.+?)\\s*₹\\s?(\\d{2,4})\")\n",
        "    matches = pattern.findall(text)\n",
        "\n",
        "    # Filter out lines with only section headers or navigational keywords\n",
        "    skip_keywords = [\"STARTERS\", \"MAIN COURSE\", \"DESSERTS\", \"COCKTAILS\", \"QUICK\", \"FOOD\", \"DRINKS\", \"BAR BITES\", \"SOUPS\", \"SALADS\"]\n",
        "\n",
        "    dishes = [\n",
        "        {\"section\": section_name, \"dish\": name.strip(), \"price\": f\"₹{price}\"}\n",
        "        for name, price in matches\n",
        "        if name.strip() and not any(k in name.upper() for k in skip_keywords)\n",
        "    ]\n",
        "    return dishes\n",
        "\n",
        "def scrape_multiple_sections(sections):\n",
        "    all_dishes = []\n",
        "    for section in sections:\n",
        "        url = section[\"url\"]\n",
        "        name = section[\"name\"]\n",
        "        print(f\"Scraping {name} from {url}\")\n",
        "        dishes = extract_dishes_from_url(url, name)\n",
        "        all_dishes.extend(dishes)\n",
        "    return all_dishes\n",
        "\n",
        "def save_to_csv(dishes, filename=\"Just_BLR_menu.csv\"):\n",
        "    with open(filename, mode=\"w\", newline='', encoding=\"utf-8\") as file:\n",
        "        writer = csv.DictWriter(file, fieldnames=[\"section\", \"dish\", \"price\"])\n",
        "        writer.writeheader()\n",
        "        writer.writerows(dishes)\n",
        "\n",
        "# --- Run the Scraper ---\n",
        "if __name__ == \"__main__\":\n",
        "    sections = [\n",
        "        {\"name\": \"Bar Bites\", \"url\": \"https://justblr.com/food-bar-bites/\"},\n",
        "        {\"name\": \"Soups & Salads\", \"url\": \"https://justblr.com/food-drinks/\"},\n",
        "        {\"name\": \"Main Course\", \"url\": \"https://justblr.com/food-main-course/\"},\n",
        "        {\"name\": \"Desserts\", \"url\": \"https://justblr.com/food-desserts/\"}\n",
        "    ]\n",
        "\n",
        "    all_dishes = scrape_multiple_sections(sections)\n",
        "    save_to_csv(all_dishes)\n",
        "    print(\"\\nMenu data saved to Just_BLR_menu.csv\")\n"
      ],
      "metadata": {
        "colab": {
          "base_uri": "https://localhost:8080/"
        },
        "id": "qyKCmYjIzh9y",
        "outputId": "7f9795f1-c9ef-4164-8ee1-469ede3c1399"
      },
      "execution_count": 4,
      "outputs": [
        {
          "output_type": "stream",
          "name": "stdout",
          "text": [
            "Scraping Bar Bites from https://justblr.com/food-bar-bites/\n",
            "Scraping Soups & Salads from https://justblr.com/food-drinks/\n",
            "Scraping Main Course from https://justblr.com/food-main-course/\n",
            "Scraping Desserts from https://justblr.com/food-desserts/\n",
            "\n",
            "Menu data saved to Just_BLR_menu.csv\n"
          ]
        }
      ]
    },
    {
      "cell_type": "code",
      "source": [
        "import requests\n",
        "from bs4 import BeautifulSoup\n",
        "import re\n",
        "import csv\n",
        "\n",
        "def extract_info_from_url(url):\n",
        "    response = requests.get(url)\n",
        "    response.raise_for_status()\n",
        "\n",
        "    soup = BeautifulSoup(response.text, \"html.parser\")\n",
        "    text = soup.get_text(separator=\"\\n\")\n",
        "    lines = [line.strip() for line in text.splitlines() if line.strip()]\n",
        "\n",
        "    restaurant_name = \"Just BLR\"\n",
        "\n",
        "    # Try to find address-like line\n",
        "    location = next((line for line in lines if \"mg road\" in line.lower() or \"bangalore\" in line.lower()), \"Not found\")\n",
        "\n",
        "    # Special features: Dietary terms\n",
        "    keywords = [\"vegetarian\", \"vegan\", \"gluten\", \"allergen\", \"spicy\", \"spice\"]\n",
        "    special_features = [line for line in lines if any(k in line.lower() for k in keywords)]\n",
        "\n",
        "    # Contact info: Scan only the last 30 lines (footer area)\n",
        "    footer_lines = lines[-30:]\n",
        "    contact_info = []\n",
        "\n",
        "    for line in footer_lines:\n",
        "        email_match = re.search(r\"[a-zA-Z0-9_.+-]+@[a-zA-Z0-9-]+\\.[a-zA-Z0-9-.]+\", line)\n",
        "        phone_match = re.search(r\"\\+91[-\\s]?\\d{5}[-\\s]?\\d{5}\", line)\n",
        "        if email_match and \"email\" not in contact_info:\n",
        "            contact_info.append(f\"Email: {email_match.group()}\")\n",
        "        if phone_match and \"phone\" not in contact_info:\n",
        "            contact_info.append(f\"Phone: {phone_match.group()}\")\n",
        "\n",
        "    # Operating hours: only lines with time-like formats\n",
        "    time_pattern = re.compile(r\"\\d{1,2}[:.]\\d{2}\\s?(AM|PM|am|pm)\", re.IGNORECASE)\n",
        "    operating_hours = [line for line in lines if time_pattern.search(line)]\n",
        "\n",
        "    return {\n",
        "        \"restaurant_name\": restaurant_name,\n",
        "        \"location\": location,\n",
        "        \"special_features\": special_features,\n",
        "        \"contact_info\": contact_info,\n",
        "        \"operating_hours\": operating_hours\n",
        "    }\n",
        "\n",
        "def save_to_csv(data, filename=\"restaurant_info.csv\"):\n",
        "    with open(filename, mode=\"w\", newline='', encoding=\"utf-8\") as file:\n",
        "        writer = csv.DictWriter(file, fieldnames=data.keys())\n",
        "        writer.writeheader()\n",
        "        writer.writerow({k: \", \".join(v) if isinstance(v, list) else v for k, v in data.items()})\n",
        "\n",
        "# Example usage\n",
        "if __name__ == \"__main__\":\n",
        "    url = \"https://justblr.com/\"\n",
        "    data = extract_info_from_url(url)\n",
        "\n",
        "    # Print summary\n",
        "    for key, value in data.items():\n",
        "        print(f\"\\n🔹 {key.replace('_', ' ').title()}:\")\n",
        "        if isinstance(value, list) and value:\n",
        "            for v in value:\n",
        "                print(f\"  - {v}\")\n",
        "        else:\n",
        "            print(f\"  {value if value else 'Not found'}\")\n",
        "\n",
        "    # Save to CSV\n",
        "    save_to_csv(data)\n",
        "    print(\"\\n✅ Data saved to restaurant_info.csv\")\n"
      ],
      "metadata": {
        "colab": {
          "base_uri": "https://localhost:8080/"
        },
        "id": "KWCeBCWxw_pU",
        "outputId": "5445e859-169d-4648-8852-71be97e9cbda"
      },
      "execution_count": 3,
      "outputs": [
        {
          "output_type": "stream",
          "name": "stdout",
          "text": [
            "\n",
            "🔹 Restaurant Name:\n",
            "  Just BLR\n",
            "\n",
            "🔹 Location:\n",
            "  Just BLR - Have Fun & Flavors for your Perfect Party at MG Road in Bengaluru - Justblr.com\n",
            "\n",
            "🔹 Special Features:\n",
            "  Not found\n",
            "\n",
            "🔹 Contact Info:\n",
            "  - Phone: +91-82779-96372\n",
            "  - Email: info@justblr.com\n",
            "\n",
            "🔹 Operating Hours:\n",
            "  Not found\n",
            "\n",
            "✅ Data saved to restaurant_info.csv\n"
          ]
        }
      ]
    }
  ]
}